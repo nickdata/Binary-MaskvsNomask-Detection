{
 "cells": [
  {
   "cell_type": "code",
   "execution_count": 1,
   "metadata": {
    "id": "BxpeVfUjdoxQ",
    "outputId": "1ee4dadf-da6c-4628-d148-49500786f7d5"
   },
   "outputs": [],
   "source": [
    "from tensorflow.keras.models import Model\n",
    "from tensorflow.keras.layers import AveragePooling2D\n",
    "from tensorflow.keras.layers import Dropout, Flatten, Dense\n",
    "from tensorflow.keras.layers import Input\n",
    "from tensorflow.keras import backend as K\n",
    "from sklearn.model_selection import train_test_split\n",
    "from tensorflow.keras.utils import to_categorical\n",
    "from sklearn.preprocessing import LabelBinarizer\n",
    "from tensorflow.keras.applications.mobilenet_v2 import preprocess_input\n",
    "from tensorflow.keras.preprocessing.image import ImageDataGenerator\n",
    "from tensorflow.keras.preprocessing.image import img_to_array\n",
    "from tensorflow.keras.preprocessing.image import load_img\n",
    "import matplotlib.pyplot as plt\n",
    "import tensorflow as tf\n",
    "import numpy as np\n",
    "import os\n"
   ]
  },
  {
   "cell_type": "code",
   "execution_count": 2,
   "metadata": {},
   "outputs": [],
   "source": [
    "train_image_dir = \"Data/train\"\n",
    "categories = [\"mask\", \"nomask\"]"
   ]
  },
  {
   "cell_type": "code",
   "execution_count": 3,
   "metadata": {
    "id": "g3GThLlrdoxb",
    "outputId": "78aa2e68-4cdf-4a53-b167-982c31c146a1"
   },
   "outputs": [],
   "source": [
    "IMAGE_HEIGHT, IMAGE_WIDTH = 224, 224\n",
    "BATCH_SIZE = 128\n",
    "TRAIN_IMGS = 23282\n",
    "MAX_TRAIN_STEPS = 200\n",
    "STEP_COUNT = min(MAX_TRAIN_STEPS, TRAIN_IMGS//BATCH_SIZE)\n",
    "NB_EPOCHS = 20"
   ]
  },
  {
   "cell_type": "code",
   "execution_count": 4,
   "metadata": {},
   "outputs": [],
   "source": [
    "image_array = []\n",
    "label_array = []\n",
    "for category in categories:\n",
    "    train_path = os.path.join(train_image_dir, category)\n",
    "    for img in os.listdir(train_path):\n",
    "        img_path = os.path.join(train_path, img)\n",
    "        image = load_img(img_path, target_size=(IMAGE_HEIGHT, IMAGE_WIDTH))\n",
    "        image = img_to_array(image)\n",
    "        image = preprocess_input(image)\n",
    "\n",
    "        image_array.append(image)\n",
    "        label_array.append(category)\n"
   ]
  },
  {
   "cell_type": "code",
   "execution_count": 5,
   "metadata": {},
   "outputs": [],
   "source": [
    "lb = LabelBinarizer()\n",
    "label_array = lb.fit_transform(label_array)\n",
    "labels = to_categorical(label_array)\n",
    "\n",
    "images = np.array(image_array, dtype=\"float32\")\n",
    "labels = np.array(labels)\n",
    "\n",
    "(train_x, test_x, train_y, test_y) = train_test_split(images, labels,\n",
    "    test_size=0.20, stratify=labels, random_state=2)"
   ]
  },
  {
   "cell_type": "code",
   "execution_count": 6,
   "metadata": {},
   "outputs": [],
   "source": [
    "train_datagen = ImageDataGenerator(\n",
    "    featurewise_center = False, \n",
    "    samplewise_center = False,\n",
    "    rotation_range = 15, \n",
    "    width_shift_range = 0.1, \n",
    "    height_shift_range = 0.1, \n",
    "    shear_range = 0.01,\n",
    "    zoom_range = [0.9, 1.25],  \n",
    "    horizontal_flip = True,\n",
    "    vertical_flip = False,\n",
    "    fill_mode=\"nearest\")"
   ]
  },
  {
   "cell_type": "code",
   "execution_count": 7,
   "metadata": {
    "id": "A4B3nZk_doxj"
   },
   "outputs": [
    {
     "name": "stdout",
     "output_type": "stream",
     "text": [
      "WARNING:tensorflow:`input_shape` is undefined or non-square, or `rows` is not in [96, 128, 160, 192, 224]. Weights for input shape (224, 224) will be loaded as the default.\n"
     ]
    }
   ],
   "source": [
    "if K.image_data_format() == 'channels_first':\n",
    "    input_shape = (3, IMAGE_HEIGHT, IMAGE_WIDTH)\n",
    "else:\n",
    "    input_shape = (IMAGE_HEIGHT, IMAGE_WIDTH, 3)\n",
    "    \n",
    "model = tf.keras.applications.MobileNetV2(include_top=False, \n",
    "                    weights='imagenet', input_tensor=Input(input_shape))\n",
    "for layer in model.layers:\n",
    "    layer.trainable = False\n",
    "    \n",
    "AvgPool=AveragePooling2D(pool_size=(2,2))(model.output)\n",
    "flat1=Flatten(name='flatten')(AvgPool)\n",
    "class1=Dense(128, activation='relu',kernel_initializer='he_uniform')(flat1)\n",
    "class2=Dropout(0.5)(class1)\n",
    "output=Dense(2, activation='softmax')(class2)\n",
    "\n",
    "model=Model(inputs=model.inputs, outputs=output)\n"
   ]
  },
  {
   "cell_type": "code",
   "execution_count": 8,
   "metadata": {},
   "outputs": [
    {
     "name": "stdout",
     "output_type": "stream",
     "text": [
      "WARNING:tensorflow:`epsilon` argument is deprecated and will be removed, use `min_delta` instead.\n"
     ]
    }
   ],
   "source": [
    "ADAM_OPTIMIZER = tf.keras.optimizers.Adam(learning_rate=0.001)\n",
    "model.compile(loss='binary_crossentropy',\n",
    "            optimizer=ADAM_OPTIMIZER,\n",
    "            metrics=['accuracy'])\n",
    "reduce_lr = tf.keras.callbacks.ReduceLROnPlateau(monitor='val_loss', factor=0.5,\n",
    "                              patience=3, verbose=1, mode='min', epsilon=0.0001, cooldown=2, min_lr=1e-6)\n",
    "early = tf.keras.callbacks.EarlyStopping(monitor=\"val_loss\", \n",
    "                      mode=\"min\", \n",
    "                      patience=10)\n",
    "callbacks_list = [early, reduce_lr]"
   ]
  },
  {
   "cell_type": "code",
   "execution_count": 9,
   "metadata": {
    "id": "WA2z61Bydoxv",
    "outputId": "a2681e6d-19b5-48a2-c7fe-12c09f03513d"
   },
   "outputs": [
    {
     "name": "stdout",
     "output_type": "stream",
     "text": [
      "WARNING:tensorflow:From <ipython-input-9-462f1df77c3b>:1: Model.fit_generator (from tensorflow.python.keras.engine.training) is deprecated and will be removed in a future version.\n",
      "Instructions for updating:\n",
      "Please use Model.fit, which supports generators.\n",
      "Epoch 1/20\n",
      "181/181 [==============================] - 98s 541ms/step - loss: 0.3468 - accuracy: 0.9583 - val_loss: 0.1942 - val_accuracy: 0.9794\n",
      "Epoch 2/20\n",
      "181/181 [==============================] - 94s 520ms/step - loss: 0.2565 - accuracy: 0.9667 - val_loss: 0.0593 - val_accuracy: 0.9899\n",
      "Epoch 3/20\n",
      "181/181 [==============================] - 100s 552ms/step - loss: 0.0800 - accuracy: 0.9805 - val_loss: 0.0411 - val_accuracy: 0.9882\n",
      "Epoch 4/20\n",
      "181/181 [==============================] - 97s 538ms/step - loss: 0.0488 - accuracy: 0.9843 - val_loss: 0.0483 - val_accuracy: 0.9852\n",
      "Epoch 5/20\n",
      "181/181 [==============================] - 97s 537ms/step - loss: 0.0482 - accuracy: 0.9855 - val_loss: 0.0241 - val_accuracy: 0.9936\n",
      "Epoch 6/20\n",
      "181/181 [==============================] - 97s 536ms/step - loss: 0.0460 - accuracy: 0.9853 - val_loss: 0.0271 - val_accuracy: 0.9929\n",
      "Epoch 7/20\n",
      "181/181 [==============================] - 97s 535ms/step - loss: 0.0465 - accuracy: 0.9853 - val_loss: 0.0375 - val_accuracy: 0.9890\n",
      "Epoch 8/20\n",
      "181/181 [==============================] - ETA: 0s - loss: 0.0416 - accuracy: 0.9880\n",
      "Epoch 00008: ReduceLROnPlateau reducing learning rate to 0.0005000000237487257.\n",
      "181/181 [==============================] - 97s 537ms/step - loss: 0.0416 - accuracy: 0.9880 - val_loss: 0.0252 - val_accuracy: 0.9921\n",
      "Epoch 9/20\n",
      "181/181 [==============================] - 97s 535ms/step - loss: 0.0329 - accuracy: 0.9898 - val_loss: 0.0218 - val_accuracy: 0.9948\n",
      "Epoch 10/20\n",
      "181/181 [==============================] - 97s 536ms/step - loss: 0.0292 - accuracy: 0.9903 - val_loss: 0.0225 - val_accuracy: 0.9936\n",
      "Epoch 11/20\n",
      "181/181 [==============================] - 97s 534ms/step - loss: 0.0266 - accuracy: 0.9921 - val_loss: 0.0241 - val_accuracy: 0.9927\n",
      "Epoch 12/20\n",
      "181/181 [==============================] - 97s 534ms/step - loss: 0.0302 - accuracy: 0.9914 - val_loss: 0.0215 - val_accuracy: 0.9927\n",
      "Epoch 13/20\n",
      "181/181 [==============================] - 96s 530ms/step - loss: 0.0290 - accuracy: 0.9908 - val_loss: 0.0248 - val_accuracy: 0.9933\n",
      "Epoch 14/20\n",
      "181/181 [==============================] - 95s 526ms/step - loss: 0.0297 - accuracy: 0.9907 - val_loss: 0.0300 - val_accuracy: 0.9925\n",
      "Epoch 15/20\n",
      "181/181 [==============================] - ETA: 0s - loss: 0.0238 - accuracy: 0.9924\n",
      "Epoch 00015: ReduceLROnPlateau reducing learning rate to 0.0002500000118743628.\n",
      "181/181 [==============================] - 95s 526ms/step - loss: 0.0238 - accuracy: 0.9924 - val_loss: 0.0249 - val_accuracy: 0.9927\n",
      "Epoch 16/20\n",
      "181/181 [==============================] - 95s 523ms/step - loss: 0.0229 - accuracy: 0.9924 - val_loss: 0.0232 - val_accuracy: 0.9936\n",
      "Epoch 17/20\n",
      "181/181 [==============================] - 94s 522ms/step - loss: 0.0192 - accuracy: 0.9934 - val_loss: 0.0220 - val_accuracy: 0.9936\n",
      "Epoch 18/20\n",
      "181/181 [==============================] - 95s 524ms/step - loss: 0.0199 - accuracy: 0.9929 - val_loss: 0.0208 - val_accuracy: 0.9948\n",
      "Epoch 19/20\n",
      "181/181 [==============================] - 94s 522ms/step - loss: 0.0166 - accuracy: 0.9944 - val_loss: 0.0224 - val_accuracy: 0.9942\n",
      "Epoch 20/20\n",
      "181/181 [==============================] - 95s 523ms/step - loss: 0.0210 - accuracy: 0.9934 - val_loss: 0.0209 - val_accuracy: 0.9940\n"
     ]
    }
   ],
   "source": [
    "loss_history=[model.fit_generator(\n",
    "    train_datagen.flow(train_x,train_y),\n",
    "    steps_per_epoch=STEP_COUNT,\n",
    "    epochs=NB_EPOCHS,\n",
    "    validation_data=(test_x, test_y),\n",
    "    validation_steps=len(test_x) // BATCH_SIZE,\n",
    "    callbacks=callbacks_list)]\n"
   ]
  },
  {
   "cell_type": "code",
   "execution_count": 13,
   "metadata": {},
   "outputs": [],
   "source": [
    "model.save(\"MaskDetection.model\", save_format=\"h5\")"
   ]
  },
  {
   "cell_type": "code",
   "execution_count": 10,
   "metadata": {},
   "outputs": [
    {
     "data": {
      "image/png": "[encoded data removed]",
      "text/plain": [
       "<Figure size 1584x720 with 2 Axes>"
      ]
     },
     "metadata": {
      "needs_background": "light"
     },
     "output_type": "display_data"
    }
   ],
   "source": [
    "def show_loss(loss_history):\n",
    "    epich = np.cumsum(np.concatenate(\n",
    "        [np.linspace(0.5, 1, len(mh.epoch)) for mh in loss_history]))\n",
    "    fig, (ax1, ax2) = plt.subplots(1, 2, figsize=(22, 10))\n",
    "    _ = ax1.plot(epich, np.concatenate(\n",
    "        [mh.history['loss'] for mh in loss_history]), 'b-',\n",
    "                 epich, np.concatenate(\n",
    "            [mh.history['val_loss'] for mh in loss_history]), 'r-')\n",
    "    ax1.legend(['Training', 'Validation'])\n",
    "    ax1.set_title('Loss')\n",
    "\n",
    "    _ = ax2.plot(epich, np.concatenate(\n",
    "        [mh.history['accuracy'] for mh in loss_history]), 'b-',\n",
    "                     epich, np.concatenate(\n",
    "            [mh.history['val_accuracy'] for mh in loss_history]), 'r-')\n",
    "    ax2.legend(['Training', 'Validation'])\n",
    "    ax2.set_title('Accuracy')\n",
    "    \n",
    "\n",
    "show_loss(loss_history)"
   ]
  },
  {
   "cell_type": "code",
   "execution_count": 11,
   "metadata": {},
   "outputs": [
    {
     "name": "stdout",
     "output_type": "stream",
     "text": [
      "              precision    recall  f1-score   support\n",
      "\n",
      "        mask       1.00      0.99      0.99      2329\n",
      "      nomask       0.99      1.00      0.99      2328\n",
      "\n",
      "    accuracy                           0.99      4657\n",
      "   macro avg       0.99      0.99      0.99      4657\n",
      "weighted avg       0.99      0.99      0.99      4657\n",
      "\n"
     ]
    }
   ],
   "source": [
    "from sklearn.metrics import classification_report\n",
    "import matplotlib.pyplot as plt\n",
    "\n",
    "predictions = model.predict(test_x, batch_size=BATCH_SIZE)\n",
    "predictions = np.argmax(predictions, axis=1)\n",
    "\n",
    "print(classification_report(test_y.argmax(axis=1), predictions,\n",
    "                            target_names=lb.classes_))"
   ]
  }
 ],
 "metadata": {
  "colab": {
   "name": "mask-ep50-vgg.ipynb",
   "provenance": []
  },
  "kernelspec": {
   "display_name": "Python 3",
   "language": "python",
   "name": "python3"
  },
  "language_info": {
   "codemirror_mode": {
    "name": "ipython",
    "version": 3
   },
   "file_extension": ".py",
   "mimetype": "text/x-python",
   "name": "python",
   "nbconvert_exporter": "python",
   "pygments_lexer": "ipython3",
   "version": "3.8.0"
  }
 },
 "nbformat": 4,
 "nbformat_minor": 1
}
